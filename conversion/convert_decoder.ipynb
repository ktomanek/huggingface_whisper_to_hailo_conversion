{
 "cells": [
  {
   "cell_type": "markdown",
   "id": "9c64584b",
   "metadata": {},
   "source": [
    "# Convert HF whisper decoder to ONNX compatible with Hailo"
   ]
  },
  {
   "cell_type": "markdown",
   "id": "a7cf7589",
   "metadata": {},
   "source": [
    "import torch\n",
    "import torch.nn as nn\n",
    "import torch.nn.functional as F\n",
    "import numpy as np\n",
    "from transformers import WhisperForConditionalGeneration\n",
    "import onnx\n",
    "import types\n",
    "import os\n",
    "from onnxsim import simplify\n",
    "import math"
   ]
  },
  {
   "cell_type": "markdown",
   "id": "2263bdbd",
   "metadata": {},
   "source": []
  },
  {
   "cell_type": "code",
   "execution_count": 3,
   "id": "d230a562",
   "metadata": {},
   "outputs": [],
   "source": [
    "import torch\n",
    "import torch.nn as nn\n",
    "import torch.nn.functional as F\n",
    "import numpy as np\n",
    "from transformers import WhisperForConditionalGeneration\n",
    "import onnx\n",
    "import types\n",
    "import os\n",
    "from onnxsim import simplify\n",
    "import math"
   ]
  },
  {
   "cell_type": "code",
   "execution_count": 1,
   "id": "be72f8d6",
   "metadata": {},
   "outputs": [],
   "source": [
    "hailo_reference_onnx = \"/Users/katrintomanek/dev/huggingface_whisper_to_hailo_conversion/hailo_reference_models/tiny/tiny-whisper-decoder-10s-seq-32.onnx\""
   ]
  },
  {
   "cell_type": "code",
   "execution_count": 2,
   "id": "0bc8f244",
   "metadata": {},
   "outputs": [],
   "source": [
    "base_model_name=\"openai/whisper-tiny\"\n",
    "\n",
    "output_dir=\"hailo_compatible_models/hf_whisper_tiny_decoder\""
   ]
  },
  {
   "cell_type": "code",
   "execution_count": 5,
   "id": "38ae1d34",
   "metadata": {},
   "outputs": [
    {
     "name": "stdout",
     "output_type": "stream",
     "text": [
      "\n",
      "Loading model: openai/whisper-tiny\n"
     ]
    }
   ],
   "source": [
    "print(f\"\\nLoading model: {base_model_name}\")\n",
    "model = WhisperForConditionalGeneration.from_pretrained(base_model_name)\n",
    "_ = model.eval()\n",
    "\n",
    "# TODO: use attn_implementation='eager' for loading ?"
   ]
  },
  {
   "cell_type": "markdown",
   "id": "c0861fe1",
   "metadata": {},
   "source": []
  }
 ],
 "metadata": {
  "kernelspec": {
   "display_name": "Python 3 (ipykernel)",
   "language": "python",
   "name": "python3"
  },
  "language_info": {
   "codemirror_mode": {
    "name": "ipython",
    "version": 3
   },
   "file_extension": ".py",
   "mimetype": "text/x-python",
   "name": "python",
   "nbconvert_exporter": "python",
   "pygments_lexer": "ipython3",
   "version": "3.11.6"
  }
 },
 "nbformat": 4,
 "nbformat_minor": 5
}
